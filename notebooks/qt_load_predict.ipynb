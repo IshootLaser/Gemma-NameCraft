{
 "cells": [
  {
   "cell_type": "code",
   "execution_count": null,
   "id": "daafe96c-91ee-41fc-a657-a6a534ee69be",
   "metadata": {},
   "outputs": [],
   "source": [
    "from transformers import AutoProcessor, PaliGemmaForConditionalGeneration, BitsAndBytesConfig, TextStreamer, TextIteratorStreamer\n",
    "from PIL import Image\n",
    "import requests\n",
    "import torch\n",
    "from time import time\n",
    "from threading import Thread\n",
    "from accelerate import cpu_offload, disk_offload"
   ]
  },
  {
   "cell_type": "code",
   "execution_count": null,
   "id": "961cf3b6-0af4-492e-95c1-a9fc87170297",
   "metadata": {},
   "outputs": [],
   "source": [
    "url = \"https://huggingface.co/datasets/huggingface/documentation-images/resolve/main/transformers/tasks/car.jpg?download=true\"\n",
    "image = Image.open(requests.get(url, stream=True).raw)\n",
    "image"
   ]
  },
  {
   "cell_type": "code",
   "execution_count": null,
   "id": "2595a96f-bec0-4647-a9f4-5ac7466f1dd1",
   "metadata": {},
   "outputs": [],
   "source": [
    "model_id = '/home/jovyan/models/paligemma_original/snapshots/d1d8734c9c3ad0ccfeea4afc270faa356c2ba515'\n",
    "device = \"cuda:0\"\n",
    "dtype = torch.bfloat16\n",
    "\n",
    "quantization_config = BitsAndBytesConfig(load_in_8bit=True)\n",
    "\n",
    "t1 = time()\n",
    "model = PaliGemmaForConditionalGeneration.from_pretrained(\n",
    "    model_id, low_cpu_mem_usage=True, quantization_config=quantization_config\n",
    ").eval()\n",
    "processor = AutoProcessor.from_pretrained(model_id)\n",
    "t2 = time()\n",
    "print(f'time spent loading: {t2 - t1}')"
   ]
  },
  {
   "cell_type": "code",
   "execution_count": null,
   "id": "02302ac5-4477-466c-800a-1ba0f5b47779",
   "metadata": {
    "scrolled": true
   },
   "outputs": [],
   "source": [
    "model.save_pretrained?"
   ]
  },
  {
   "cell_type": "code",
   "execution_count": null,
   "id": "1c684659-0b80-4eeb-afa0-91e038e7f07c",
   "metadata": {
    "scrolled": true
   },
   "outputs": [],
   "source": [
    "processor.save_pretrained?"
   ]
  },
  {
   "cell_type": "code",
   "execution_count": null,
   "id": "60e78708-6184-4767-a60f-4c7f6d2ea6cf",
   "metadata": {},
   "outputs": [],
   "source": [
    "# model.save_pretrained('./models/paligemma_4bit', safe_serialization=False)\n",
    "# processor.save_pretrained('./models/paligemma_4bit', safe_serialization=False)\n",
    "\n",
    "# model.save_pretrained('./models/paligemma_8bit', safe_serialization=False)\n",
    "# processor.save_pretrained('./models/paligemma_8bit', safe_serialization=False)"
   ]
  },
  {
   "cell_type": "code",
   "execution_count": null,
   "id": "c5a4f99f-bfbc-46bc-81c7-44a0d13caed3",
   "metadata": {},
   "outputs": [],
   "source": [
    "# load quantized\n",
    "model_id = '/home/jovyan/models/paligemma_4bit'\n",
    "device = \"cuda:0\"\n",
    "dtype = torch.bfloat16\n",
    "\n",
    "t1 = time()\n",
    "model = PaliGemmaForConditionalGeneration.from_pretrained(\n",
    "    model_id, low_cpu_mem_usage=True, device_map=device\n",
    ").eval()\n",
    "processor = AutoProcessor.from_pretrained(model_id)\n",
    "t2 = time()\n",
    "print(f'time spent loading: {t2 - t1}')"
   ]
  },
  {
   "cell_type": "code",
   "execution_count": null,
   "id": "d21b3da0-407c-4d67-81f0-f4657afc9911",
   "metadata": {
    "scrolled": true
   },
   "outputs": [],
   "source": [
    "prompt = \"caption en in great detail\"\n",
    "image = Image.open('./408Importance of taking a vacation.jpg')\n",
    "model_inputs = processor(text=prompt, images=image, return_tensors=\"pt\").to(model.device)\n",
    "input_len = model_inputs[\"input_ids\"].shape[-1]\n",
    "\n",
    "t1 = time()\n",
    "with torch.inference_mode():\n",
    "    generation = model.generate(**model_inputs, max_new_tokens=100, do_sample=True)\n",
    "    generation_c = generation[0][input_len:]\n",
    "    decoded = processor.decode(generation_c, skip_special_tokens=True)\n",
    "    print(decoded)\n",
    "t2 = time()\n",
    "t2 - t1"
   ]
  },
  {
   "cell_type": "code",
   "execution_count": null,
   "id": "12de90ce-ff1b-4530-b5bd-0697e81b35b8",
   "metadata": {},
   "outputs": [],
   "source": [
    "prompt = \"caption en in great detail\"\n",
    "image = Image.open('./408Importance of taking a vacation.jpg')\n",
    "model_inputs = processor(text=prompt, images=image, return_tensors=\"pt\").to(model.device)\n",
    "input_len = model_inputs[\"input_ids\"].shape[-1]\n",
    "streamer = TextStreamer(processor, skip_prompt=True, skip_special_tokens=True)\n",
    "\n",
    "t1 = time()\n",
    "with torch.inference_mode():\n",
    "    generation = model.generate(**model_inputs, max_new_tokens=100, do_sample=True, streamer=streamer)\n",
    "    # generation = generation[0][input_len:]\n",
    "    # decoded = processor.decode(generation, skip_special_tokens=True)\n",
    "    # print(decoded)\n",
    "t2 = time()\n",
    "t2 - t1"
   ]
  },
  {
   "cell_type": "code",
   "execution_count": null,
   "id": "d6ecdf06-05e3-4071-accc-4263e078fa4a",
   "metadata": {},
   "outputs": [],
   "source": [
    "model_inputs = processor(text=prompt, images=image, return_tensors=\"pt\").to('cuda')"
   ]
  },
  {
   "cell_type": "code",
   "execution_count": null,
   "id": "2ffad289-e4aa-4821-9396-33bc5fde74c3",
   "metadata": {
    "collapsed": true,
    "jupyter": {
     "outputs_hidden": true
    }
   },
   "outputs": [],
   "source": [
    "t1 = time()\n",
    "with torch.inference_mode():\n",
    "    generation = model.generate(**model_inputs, max_new_tokens=100, do_sample=True, streamer=streamer)\n",
    "    # generation = generation[0][input_len:]\n",
    "    # decoded = processor.decode(generation, skip_special_tokens=True)\n",
    "    # print(decoded)\n",
    "t2 = time()"
   ]
  },
  {
   "cell_type": "code",
   "execution_count": null,
   "id": "704bcbfc-0a38-46c9-adeb-88f352c2cfab",
   "metadata": {},
   "outputs": [],
   "source": [
    "streamer = TextIteratorStreamer(processor, skip_prompt=True, skip_special_tokens=True)\n",
    "def threaded_gen(streamer):\n",
    "    with torch.inference_mode():\n",
    "        prompt = \"caption en in great detail.\"\n",
    "        image = Image.open('./408Importance of taking a vacation.jpg')\n",
    "        model_inputs = processor(text=prompt, images=image, return_tensors=\"pt\").to(model.device)\n",
    "        input_len = model_inputs[\"input_ids\"].shape[-1]\n",
    "        generation = model.generate(**model_inputs, max_new_tokens=100, do_sample=True, streamer=streamer)"
   ]
  },
  {
   "cell_type": "code",
   "execution_count": null,
   "id": "5a12ac76-1b0e-45c7-898b-34c1c018898c",
   "metadata": {},
   "outputs": [],
   "source": [
    "t = Thread(target=threaded_gen, args=(streamer,))\n",
    "t.start()\n",
    "out = ''\n",
    "for i in streamer:\n",
    "    out += i\n",
    "    print(out)\n",
    "t.join()"
   ]
  },
  {
   "cell_type": "code",
   "execution_count": null,
   "id": "a83b6238-d65e-4306-b4c1-a0a166de1794",
   "metadata": {},
   "outputs": [],
   "source": []
  }
 ],
 "metadata": {
  "kernelspec": {
   "display_name": "Python 3 (ipykernel)",
   "language": "python",
   "name": "python3"
  },
  "language_info": {
   "codemirror_mode": {
    "name": "ipython",
    "version": 3
   },
   "file_extension": ".py",
   "mimetype": "text/x-python",
   "name": "python",
   "nbconvert_exporter": "python",
   "pygments_lexer": "ipython3",
   "version": "3.8.10"
  }
 },
 "nbformat": 4,
 "nbformat_minor": 5
}
